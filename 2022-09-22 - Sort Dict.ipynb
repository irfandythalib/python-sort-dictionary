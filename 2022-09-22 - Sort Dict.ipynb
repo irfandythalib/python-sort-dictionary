{
 "cells": [
  {
   "cell_type": "markdown",
   "metadata": {},
   "source": [
    "#### Create the Dictionary"
   ]
  },
  {
   "cell_type": "code",
   "execution_count": 1,
   "metadata": {
    "ExecuteTime": {
     "end_time": "2022-09-20T01:51:45.333858Z",
     "start_time": "2022-09-20T01:51:45.320863Z"
    }
   },
   "outputs": [],
   "source": [
    "dictionary = {\"Fandy\" : 35, \"Bambang\" : 23, \"Rudy\" : 45}"
   ]
  },
  {
   "cell_type": "markdown",
   "metadata": {},
   "source": [
    "#### Ascending Sort "
   ]
  },
  {
   "cell_type": "code",
   "execution_count": 2,
   "metadata": {
    "ExecuteTime": {
     "end_time": "2022-09-20T01:51:47.396993Z",
     "start_time": "2022-09-20T01:51:47.376053Z"
    }
   },
   "outputs": [
    {
     "data": {
      "text/plain": [
       "[('Bambang', 23), ('Fandy', 35), ('Rudy', 45)]"
      ]
     },
     "execution_count": 2,
     "metadata": {},
     "output_type": "execute_result"
    }
   ],
   "source": [
    "sorted_dict = sorted(dictionary.items(), key=lambda item: item[1])\n",
    "sorted_dict"
   ]
  },
  {
   "cell_type": "markdown",
   "metadata": {},
   "source": [
    "#### Descending Sort"
   ]
  },
  {
   "cell_type": "code",
   "execution_count": 3,
   "metadata": {
    "ExecuteTime": {
     "end_time": "2022-09-20T01:52:03.743405Z",
     "start_time": "2022-09-20T01:52:03.724381Z"
    }
   },
   "outputs": [
    {
     "data": {
      "text/plain": [
       "[('Rudy', 45), ('Fandy', 35), ('Bambang', 23)]"
      ]
     },
     "execution_count": 3,
     "metadata": {},
     "output_type": "execute_result"
    }
   ],
   "source": [
    "sorted_dict = sorted(dictionary.items(), key=lambda item: item[1],reverse=True)\n",
    "sorted_dict"
   ]
  }
 ],
 "metadata": {
  "kernelspec": {
   "display_name": "Python 3",
   "language": "python",
   "name": "python3"
  },
  "language_info": {
   "codemirror_mode": {
    "name": "ipython",
    "version": 3
   },
   "file_extension": ".py",
   "mimetype": "text/x-python",
   "name": "python",
   "nbconvert_exporter": "python",
   "pygments_lexer": "ipython3",
   "version": "3.7.7"
  }
 },
 "nbformat": 4,
 "nbformat_minor": 4
}
